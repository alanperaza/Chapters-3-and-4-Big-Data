{
 "cells": [
  {
   "cell_type": "markdown",
   "metadata": {},
   "source": [
    "# Questions Chapter 3"
   ]
  },
  {
   "cell_type": "markdown",
   "metadata": {},
   "source": [
    "What are the 4 main features of serialization frameworks?\n",
    "\n",
    "\n",
    "* an easy approach to making an enforceable schema\n",
    "\n",
    "* unique field ID's\n",
    "\n",
    "* object-oriented\n",
    "\n",
    "* statically typed"
   ]
  },
  {
   "cell_type": "markdown",
   "metadata": {},
   "source": [
    "Mention the workhorses of thrift:\n",
    "\n",
    "* Primitive data types (strings, integers, longs, and doubles)\n",
    "\n",
    "* Collections of other types (lists, maps, and sets)"
   ]
  },
  {
   "cell_type": "markdown",
   "metadata": {},
   "source": [
    "What kind of information can you provide about structs and unions? (The book specifies this!)\n",
    "\n",
    "* Unions are useful for **representing nodes**\n",
    "\n",
    "* Structs are natural **representations of edges**\n",
    "\n",
    "* Properties use a **combination of both**"
   ]
  },
  {
   "cell_type": "markdown",
   "metadata": {},
   "source": [
    "When evolving a schema, which *rules* are recommended to follow?\n",
    "\n",
    "1. Fields may be renamed. \n",
    "\n",
    "\n",
    "2. A field may be removed, but you must never reuse that field ID. \n",
    "\n",
    "\n",
    "3. Only optional fields can be added to existing structs. "
   ]
  },
  {
   "cell_type": "markdown",
   "metadata": {},
   "source": [
    "# Questions Chapter 4"
   ]
  },
  {
   "cell_type": "markdown",
   "metadata": {},
   "source": [
    "How does a distributed filesystems work?\n",
    "\n",
    "* They **spread their storage** across a cluster of computers. **They scale by adding more machines to the cluster**. Distributed filesystems are designed so that you have fault tolerance when a machine goes down, meaning that if you lose one machine, **all your files and data will still be accessible.**\n",
    "\n",
    "The operations you can do with a distributed filesystem are **often more limited than you can do with a regular filesystem**. "
   ]
  },
  {
   "cell_type": "markdown",
   "metadata": {},
   "source": [
    "Which are the storage requirements for the master dataset?\n",
    "\n",
    "* **Write...**\n",
    "    1. Efficient appends of new data\n",
    "    2. **Scalable** storage\n",
    "    \n",
    "    \n",
    "* **Read...**\n",
    "    1. Supportfor parallel processing\n",
    "    \n",
    "    \n",
    "* **Both...**\n",
    "    1. Tunable storage and **processing costs**\n",
    "    2. Enforceable **immutability**"
   ]
  },
  {
   "cell_type": "markdown",
   "metadata": {},
   "source": [
    "When working with distributed filesystems, which tool is recommended to use? Describe it.\n",
    "\n",
    "The **Hadoop Distributed File System (HDFS)**. Hadoop is deployed across multiple servers, typically called a *cluster*, and *HDFS* is a distributed and scalable filesystem that manages how data is stored across the cluster."
   ]
  }
 ],
 "metadata": {
  "kernelspec": {
   "display_name": "Python 3",
   "language": "python",
   "name": "python3"
  },
  "language_info": {
   "codemirror_mode": {
    "name": "ipython",
    "version": 3
   },
   "file_extension": ".py",
   "mimetype": "text/x-python",
   "name": "python",
   "nbconvert_exporter": "python",
   "pygments_lexer": "ipython3",
   "version": "3.7.4"
  }
 },
 "nbformat": 4,
 "nbformat_minor": 2
}
